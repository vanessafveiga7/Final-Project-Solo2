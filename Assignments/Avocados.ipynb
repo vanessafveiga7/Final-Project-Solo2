{
 "cells": [
  {
   "cell_type": "markdown",
   "id": "017ff6f6",
   "metadata": {},
   "source": [
    "## Importing Libraries"
   ]
  },
  {
   "cell_type": "code",
   "execution_count": 9,
   "id": "18ab6ee0",
   "metadata": {},
   "outputs": [],
   "source": [
    "import pandas as pd\n",
    "import numpy as np\n",
    "import matplotlib.pyplot as plt\n",
    "import seaborn as sns\n",
    "from scipy.stats import bartlett, f_oneway\n",
    "from statsmodels.stats.multicomp import pairwise_tukeyhsd, MultiComparison\n",
    "\n",
    "import warnings\n",
    "warnings.filterwarnings(\"ignore\")"
   ]
  },
  {
   "cell_type": "code",
   "execution_count": 10,
   "id": "127faeb5",
   "metadata": {},
   "outputs": [],
   "source": [
    "from sklearn.linear_model import LinearRegression"
   ]
  },
  {
   "cell_type": "code",
   "execution_count": 67,
   "id": "16470f6f-95c6-4211-9057-5a2ed347d17d",
   "metadata": {},
   "outputs": [],
   "source": [
    "from sklearn.model_selection import train_test_split\n",
    "from sklearn.metrics import mean_squared_error, r2_score"
   ]
  },
  {
   "cell_type": "markdown",
   "id": "ec70ef72",
   "metadata": {},
   "source": [
    "#### Importing the first dataset"
   ]
  },
  {
   "cell_type": "code",
   "execution_count": 11,
   "id": "a775fe91",
   "metadata": {},
   "outputs": [
    {
     "data": {
      "text/html": [
       "<div>\n",
       "<style scoped>\n",
       "    .dataframe tbody tr th:only-of-type {\n",
       "        vertical-align: middle;\n",
       "    }\n",
       "\n",
       "    .dataframe tbody tr th {\n",
       "        vertical-align: top;\n",
       "    }\n",
       "\n",
       "    .dataframe thead th {\n",
       "        text-align: right;\n",
       "    }\n",
       "</style>\n",
       "<table border=\"1\" class=\"dataframe\">\n",
       "  <thead>\n",
       "    <tr style=\"text-align: right;\">\n",
       "      <th></th>\n",
       "      <th>Date</th>\n",
       "      <th>AveragePrice</th>\n",
       "      <th>Total Volume</th>\n",
       "      <th>4046</th>\n",
       "      <th>4225</th>\n",
       "      <th>4770</th>\n",
       "      <th>Total Bags</th>\n",
       "      <th>Small Bags</th>\n",
       "      <th>Large Bags</th>\n",
       "      <th>XLarge Bags</th>\n",
       "      <th>type</th>\n",
       "      <th>year</th>\n",
       "      <th>region</th>\n",
       "    </tr>\n",
       "  </thead>\n",
       "  <tbody>\n",
       "    <tr>\n",
       "      <th>0</th>\n",
       "      <td>12/27/2015</td>\n",
       "      <td>1.33</td>\n",
       "      <td>64236.62</td>\n",
       "      <td>1036.74</td>\n",
       "      <td>54454.85</td>\n",
       "      <td>48.16</td>\n",
       "      <td>8696.87</td>\n",
       "      <td>8603.62</td>\n",
       "      <td>93.25</td>\n",
       "      <td>0.0</td>\n",
       "      <td>conventional</td>\n",
       "      <td>2015</td>\n",
       "      <td>Albany</td>\n",
       "    </tr>\n",
       "    <tr>\n",
       "      <th>1</th>\n",
       "      <td>12/20/2015</td>\n",
       "      <td>1.35</td>\n",
       "      <td>54876.98</td>\n",
       "      <td>674.28</td>\n",
       "      <td>44638.81</td>\n",
       "      <td>58.33</td>\n",
       "      <td>9505.56</td>\n",
       "      <td>9408.07</td>\n",
       "      <td>97.49</td>\n",
       "      <td>0.0</td>\n",
       "      <td>conventional</td>\n",
       "      <td>2015</td>\n",
       "      <td>Albany</td>\n",
       "    </tr>\n",
       "    <tr>\n",
       "      <th>2</th>\n",
       "      <td>12/13/2015</td>\n",
       "      <td>0.93</td>\n",
       "      <td>118220.22</td>\n",
       "      <td>794.70</td>\n",
       "      <td>109149.67</td>\n",
       "      <td>130.50</td>\n",
       "      <td>8145.35</td>\n",
       "      <td>8042.21</td>\n",
       "      <td>103.14</td>\n",
       "      <td>0.0</td>\n",
       "      <td>conventional</td>\n",
       "      <td>2015</td>\n",
       "      <td>Albany</td>\n",
       "    </tr>\n",
       "    <tr>\n",
       "      <th>3</th>\n",
       "      <td>12/6/2015</td>\n",
       "      <td>1.08</td>\n",
       "      <td>78992.15</td>\n",
       "      <td>1132.00</td>\n",
       "      <td>71976.41</td>\n",
       "      <td>72.58</td>\n",
       "      <td>5811.16</td>\n",
       "      <td>5677.40</td>\n",
       "      <td>133.76</td>\n",
       "      <td>0.0</td>\n",
       "      <td>conventional</td>\n",
       "      <td>2015</td>\n",
       "      <td>Albany</td>\n",
       "    </tr>\n",
       "    <tr>\n",
       "      <th>4</th>\n",
       "      <td>11/29/2015</td>\n",
       "      <td>1.28</td>\n",
       "      <td>51039.60</td>\n",
       "      <td>941.48</td>\n",
       "      <td>43838.39</td>\n",
       "      <td>75.78</td>\n",
       "      <td>6183.95</td>\n",
       "      <td>5986.26</td>\n",
       "      <td>197.69</td>\n",
       "      <td>0.0</td>\n",
       "      <td>conventional</td>\n",
       "      <td>2015</td>\n",
       "      <td>Albany</td>\n",
       "    </tr>\n",
       "  </tbody>\n",
       "</table>\n",
       "</div>"
      ],
      "text/plain": [
       "         Date  AveragePrice  Total Volume     4046       4225    4770  \\\n",
       "0  12/27/2015          1.33      64236.62  1036.74   54454.85   48.16   \n",
       "1  12/20/2015          1.35      54876.98   674.28   44638.81   58.33   \n",
       "2  12/13/2015          0.93     118220.22   794.70  109149.67  130.50   \n",
       "3   12/6/2015          1.08      78992.15  1132.00   71976.41   72.58   \n",
       "4  11/29/2015          1.28      51039.60   941.48   43838.39   75.78   \n",
       "\n",
       "   Total Bags  Small Bags  Large Bags  XLarge Bags          type  year  region  \n",
       "0     8696.87     8603.62       93.25          0.0  conventional  2015  Albany  \n",
       "1     9505.56     9408.07       97.49          0.0  conventional  2015  Albany  \n",
       "2     8145.35     8042.21      103.14          0.0  conventional  2015  Albany  \n",
       "3     5811.16     5677.40      133.76          0.0  conventional  2015  Albany  \n",
       "4     6183.95     5986.26      197.69          0.0  conventional  2015  Albany  "
      ]
     },
     "execution_count": 11,
     "metadata": {},
     "output_type": "execute_result"
    }
   ],
   "source": [
    "df = pd.read_csv('/Users/vanessaveiga/Downloads/avocados-us-2015-1018.csv')\n",
    "# taking out the first column which is just index numbers.\n",
    "df = df.iloc[:,1:]\n",
    "df.head()"
   ]
  },
  {
   "cell_type": "markdown",
   "id": "4c026ba6",
   "metadata": {},
   "source": [
    "## Exploratory Data Analysis"
   ]
  },
  {
   "cell_type": "markdown",
   "id": "c261e2c2",
   "metadata": {},
   "source": [
    "Checking the number of rows and columns"
   ]
  },
  {
   "cell_type": "code",
   "execution_count": 12,
   "id": "5a99c619",
   "metadata": {},
   "outputs": [
    {
     "data": {
      "text/plain": [
       "(18249, 13)"
      ]
     },
     "execution_count": 12,
     "metadata": {},
     "output_type": "execute_result"
    }
   ],
   "source": [
    "df.shape"
   ]
  },
  {
   "cell_type": "markdown",
   "id": "aa38e1c1",
   "metadata": {},
   "source": [
    "Checking unique values for type and region"
   ]
  },
  {
   "cell_type": "code",
   "execution_count": 9,
   "id": "e0fdd123",
   "metadata": {},
   "outputs": [
    {
     "data": {
      "text/plain": [
       "array(['conventional', 'organic'], dtype=object)"
      ]
     },
     "execution_count": 9,
     "metadata": {},
     "output_type": "execute_result"
    }
   ],
   "source": [
    "df.type.unique()"
   ]
  },
  {
   "cell_type": "code",
   "execution_count": 26,
   "id": "4d1e5ddb",
   "metadata": {},
   "outputs": [
    {
     "data": {
      "text/plain": [
       "Albany                 338\n",
       "Sacramento             338\n",
       "Northeast              338\n",
       "NorthernNewEngland     338\n",
       "Orlando                338\n",
       "Philadelphia           338\n",
       "PhoenixTucson          338\n",
       "Pittsburgh             338\n",
       "Plains                 338\n",
       "Portland               338\n",
       "RaleighGreensboro      338\n",
       "RichmondNorfolk        338\n",
       "Roanoke                338\n",
       "SanDiego               338\n",
       "Atlanta                338\n",
       "SanFrancisco           338\n",
       "Seattle                338\n",
       "SouthCarolina          338\n",
       "SouthCentral           338\n",
       "Southeast              338\n",
       "Spokane                338\n",
       "StLouis                338\n",
       "Syracuse               338\n",
       "Tampa                  338\n",
       "TotalUS                338\n",
       "West                   338\n",
       "NewYork                338\n",
       "NewOrleansMobile       338\n",
       "Nashville              338\n",
       "Midsouth               338\n",
       "BaltimoreWashington    338\n",
       "Boise                  338\n",
       "Boston                 338\n",
       "BuffaloRochester       338\n",
       "California             338\n",
       "Charlotte              338\n",
       "Chicago                338\n",
       "CincinnatiDayton       338\n",
       "Columbus               338\n",
       "DallasFtWorth          338\n",
       "Denver                 338\n",
       "Detroit                338\n",
       "GrandRapids            338\n",
       "GreatLakes             338\n",
       "HarrisburgScranton     338\n",
       "HartfordSpringfield    338\n",
       "Houston                338\n",
       "Indianapolis           338\n",
       "Jacksonville           338\n",
       "LasVegas               338\n",
       "LosAngeles             338\n",
       "Louisville             338\n",
       "MiamiFtLauderdale      338\n",
       "WestTexNewMexico       335\n",
       "Name: region, dtype: int64"
      ]
     },
     "execution_count": 26,
     "metadata": {},
     "output_type": "execute_result"
    }
   ],
   "source": [
    "# Checking how many of each city and simultaneously find out all the cities listed.\n",
    "df.region.value_counts()"
   ]
  },
  {
   "cell_type": "markdown",
   "id": "e564135b",
   "metadata": {},
   "source": [
    "Checking description for region (categorical variable)"
   ]
  },
  {
   "cell_type": "code",
   "execution_count": 30,
   "id": "a4bb7cf6",
   "metadata": {},
   "outputs": [
    {
     "data": {
      "text/plain": [
       "count      18249\n",
       "unique        54\n",
       "top       Albany\n",
       "freq         338\n",
       "Name: region, dtype: object"
      ]
     },
     "execution_count": 30,
     "metadata": {},
     "output_type": "execute_result"
    }
   ],
   "source": [
    "df.region.describe()"
   ]
  },
  {
   "cell_type": "markdown",
   "id": "83cb56e0",
   "metadata": {},
   "source": [
    "Checking description for Average Price (continous variable)"
   ]
  },
  {
   "cell_type": "code",
   "execution_count": 11,
   "id": "5cd991cb",
   "metadata": {},
   "outputs": [
    {
     "data": {
      "text/plain": [
       "count    18249.000000\n",
       "mean         1.405978\n",
       "std          0.402677\n",
       "min          0.440000\n",
       "25%          1.100000\n",
       "50%          1.370000\n",
       "75%          1.660000\n",
       "max          3.250000\n",
       "Name: AveragePrice, dtype: float64"
      ]
     },
     "execution_count": 11,
     "metadata": {},
     "output_type": "execute_result"
    }
   ],
   "source": [
    "df.AveragePrice.describe()"
   ]
  },
  {
   "cell_type": "markdown",
   "id": "056e5f4e",
   "metadata": {},
   "source": [
    "## Filtering to keep the 3 cities"
   ]
  },
  {
   "cell_type": "code",
   "execution_count": 31,
   "id": "258aa67e",
   "metadata": {},
   "outputs": [
    {
     "data": {
      "text/html": [
       "<div>\n",
       "<style scoped>\n",
       "    .dataframe tbody tr th:only-of-type {\n",
       "        vertical-align: middle;\n",
       "    }\n",
       "\n",
       "    .dataframe tbody tr th {\n",
       "        vertical-align: top;\n",
       "    }\n",
       "\n",
       "    .dataframe thead th {\n",
       "        text-align: right;\n",
       "    }\n",
       "</style>\n",
       "<table border=\"1\" class=\"dataframe\">\n",
       "  <thead>\n",
       "    <tr style=\"text-align: right;\">\n",
       "      <th></th>\n",
       "      <th>Date</th>\n",
       "      <th>AveragePrice</th>\n",
       "      <th>Total Volume</th>\n",
       "      <th>4046</th>\n",
       "      <th>4225</th>\n",
       "      <th>4770</th>\n",
       "      <th>Total Bags</th>\n",
       "      <th>Small Bags</th>\n",
       "      <th>Large Bags</th>\n",
       "      <th>XLarge Bags</th>\n",
       "      <th>type</th>\n",
       "      <th>year</th>\n",
       "      <th>region</th>\n",
       "    </tr>\n",
       "  </thead>\n",
       "  <tbody>\n",
       "    <tr>\n",
       "      <th>208</th>\n",
       "      <td>12/27/2015</td>\n",
       "      <td>1.13</td>\n",
       "      <td>450816.39</td>\n",
       "      <td>3886.27</td>\n",
       "      <td>346964.70</td>\n",
       "      <td>13952.56</td>\n",
       "      <td>86012.86</td>\n",
       "      <td>85913.60</td>\n",
       "      <td>99.26</td>\n",
       "      <td>0.0</td>\n",
       "      <td>conventional</td>\n",
       "      <td>2015</td>\n",
       "      <td>Boston</td>\n",
       "    </tr>\n",
       "    <tr>\n",
       "      <th>209</th>\n",
       "      <td>12/20/2015</td>\n",
       "      <td>1.07</td>\n",
       "      <td>489802.88</td>\n",
       "      <td>4912.37</td>\n",
       "      <td>390100.99</td>\n",
       "      <td>5887.72</td>\n",
       "      <td>88901.80</td>\n",
       "      <td>88768.47</td>\n",
       "      <td>133.33</td>\n",
       "      <td>0.0</td>\n",
       "      <td>conventional</td>\n",
       "      <td>2015</td>\n",
       "      <td>Boston</td>\n",
       "    </tr>\n",
       "    <tr>\n",
       "      <th>210</th>\n",
       "      <td>12/13/2015</td>\n",
       "      <td>1.01</td>\n",
       "      <td>549945.76</td>\n",
       "      <td>4641.02</td>\n",
       "      <td>455362.38</td>\n",
       "      <td>219.40</td>\n",
       "      <td>89722.96</td>\n",
       "      <td>89523.38</td>\n",
       "      <td>199.58</td>\n",
       "      <td>0.0</td>\n",
       "      <td>conventional</td>\n",
       "      <td>2015</td>\n",
       "      <td>Boston</td>\n",
       "    </tr>\n",
       "    <tr>\n",
       "      <th>211</th>\n",
       "      <td>12/6/2015</td>\n",
       "      <td>1.02</td>\n",
       "      <td>488679.31</td>\n",
       "      <td>5126.32</td>\n",
       "      <td>407520.22</td>\n",
       "      <td>142.99</td>\n",
       "      <td>75889.78</td>\n",
       "      <td>75666.22</td>\n",
       "      <td>223.56</td>\n",
       "      <td>0.0</td>\n",
       "      <td>conventional</td>\n",
       "      <td>2015</td>\n",
       "      <td>Boston</td>\n",
       "    </tr>\n",
       "    <tr>\n",
       "      <th>212</th>\n",
       "      <td>11/29/2015</td>\n",
       "      <td>1.19</td>\n",
       "      <td>350559.81</td>\n",
       "      <td>3609.25</td>\n",
       "      <td>272719.08</td>\n",
       "      <td>105.86</td>\n",
       "      <td>74125.62</td>\n",
       "      <td>73864.52</td>\n",
       "      <td>261.10</td>\n",
       "      <td>0.0</td>\n",
       "      <td>conventional</td>\n",
       "      <td>2015</td>\n",
       "      <td>Boston</td>\n",
       "    </tr>\n",
       "  </tbody>\n",
       "</table>\n",
       "</div>"
      ],
      "text/plain": [
       "           Date  AveragePrice  Total Volume     4046       4225      4770  \\\n",
       "208  12/27/2015          1.13     450816.39  3886.27  346964.70  13952.56   \n",
       "209  12/20/2015          1.07     489802.88  4912.37  390100.99   5887.72   \n",
       "210  12/13/2015          1.01     549945.76  4641.02  455362.38    219.40   \n",
       "211   12/6/2015          1.02     488679.31  5126.32  407520.22    142.99   \n",
       "212  11/29/2015          1.19     350559.81  3609.25  272719.08    105.86   \n",
       "\n",
       "     Total Bags  Small Bags  Large Bags  XLarge Bags          type  year  \\\n",
       "208    86012.86    85913.60       99.26          0.0  conventional  2015   \n",
       "209    88901.80    88768.47      133.33          0.0  conventional  2015   \n",
       "210    89722.96    89523.38      199.58          0.0  conventional  2015   \n",
       "211    75889.78    75666.22      223.56          0.0  conventional  2015   \n",
       "212    74125.62    73864.52      261.10          0.0  conventional  2015   \n",
       "\n",
       "     region  \n",
       "208  Boston  \n",
       "209  Boston  \n",
       "210  Boston  \n",
       "211  Boston  \n",
       "212  Boston  "
      ]
     },
     "execution_count": 31,
     "metadata": {},
     "output_type": "execute_result"
    }
   ],
   "source": [
    "df1 = df[df.region.isin(['SouthCarolina', 'Boston', 'Chicago'])]\n",
    "df1.head()"
   ]
  },
  {
   "cell_type": "markdown",
   "id": "f1b55f92",
   "metadata": {},
   "source": [
    "Checking to see if we have only 3 cities now under unique and the value counts."
   ]
  },
  {
   "cell_type": "code",
   "execution_count": 33,
   "id": "4ee0e111",
   "metadata": {},
   "outputs": [
    {
     "data": {
      "text/plain": [
       "count       1014\n",
       "unique         3\n",
       "top       Boston\n",
       "freq         338\n",
       "Name: region, dtype: object"
      ]
     },
     "execution_count": 33,
     "metadata": {},
     "output_type": "execute_result"
    }
   ],
   "source": [
    "df1.region.describe()"
   ]
  },
  {
   "cell_type": "code",
   "execution_count": 39,
   "id": "6ebea248",
   "metadata": {},
   "outputs": [
    {
     "data": {
      "text/plain": [
       "Boston           338\n",
       "Chicago          338\n",
       "SouthCarolina    338\n",
       "Name: region, dtype: int64"
      ]
     },
     "execution_count": 39,
     "metadata": {},
     "output_type": "execute_result"
    }
   ],
   "source": [
    "df1.region.value_counts()"
   ]
  },
  {
   "cell_type": "markdown",
   "id": "33903745",
   "metadata": {},
   "source": [
    "## Data Wrangling"
   ]
  },
  {
   "cell_type": "markdown",
   "id": "cc040a6c",
   "metadata": {},
   "source": [
    "#### Recoding variables.\n",
    "This will include type and region since they are objects."
   ]
  },
  {
   "cell_type": "markdown",
   "id": "0b9c9cf0",
   "metadata": {},
   "source": [
    "First, let's recode type"
   ]
  },
  {
   "cell_type": "code",
   "execution_count": 35,
   "id": "a5d3ac89",
   "metadata": {},
   "outputs": [
    {
     "data": {
      "text/html": [
       "<div>\n",
       "<style scoped>\n",
       "    .dataframe tbody tr th:only-of-type {\n",
       "        vertical-align: middle;\n",
       "    }\n",
       "\n",
       "    .dataframe tbody tr th {\n",
       "        vertical-align: top;\n",
       "    }\n",
       "\n",
       "    .dataframe thead th {\n",
       "        text-align: right;\n",
       "    }\n",
       "</style>\n",
       "<table border=\"1\" class=\"dataframe\">\n",
       "  <thead>\n",
       "    <tr style=\"text-align: right;\">\n",
       "      <th></th>\n",
       "      <th>Date</th>\n",
       "      <th>AveragePrice</th>\n",
       "      <th>Total Volume</th>\n",
       "      <th>4046</th>\n",
       "      <th>4225</th>\n",
       "      <th>4770</th>\n",
       "      <th>Total Bags</th>\n",
       "      <th>Small Bags</th>\n",
       "      <th>Large Bags</th>\n",
       "      <th>XLarge Bags</th>\n",
       "      <th>type</th>\n",
       "      <th>year</th>\n",
       "      <th>region</th>\n",
       "      <th>regionR</th>\n",
       "      <th>typeR</th>\n",
       "    </tr>\n",
       "  </thead>\n",
       "  <tbody>\n",
       "    <tr>\n",
       "      <th>208</th>\n",
       "      <td>12/27/2015</td>\n",
       "      <td>1.13</td>\n",
       "      <td>450816.39</td>\n",
       "      <td>3886.27</td>\n",
       "      <td>346964.70</td>\n",
       "      <td>13952.56</td>\n",
       "      <td>86012.86</td>\n",
       "      <td>85913.60</td>\n",
       "      <td>99.26</td>\n",
       "      <td>0.0</td>\n",
       "      <td>conventional</td>\n",
       "      <td>2015</td>\n",
       "      <td>Boston</td>\n",
       "      <td>1</td>\n",
       "      <td>0</td>\n",
       "    </tr>\n",
       "    <tr>\n",
       "      <th>209</th>\n",
       "      <td>12/20/2015</td>\n",
       "      <td>1.07</td>\n",
       "      <td>489802.88</td>\n",
       "      <td>4912.37</td>\n",
       "      <td>390100.99</td>\n",
       "      <td>5887.72</td>\n",
       "      <td>88901.80</td>\n",
       "      <td>88768.47</td>\n",
       "      <td>133.33</td>\n",
       "      <td>0.0</td>\n",
       "      <td>conventional</td>\n",
       "      <td>2015</td>\n",
       "      <td>Boston</td>\n",
       "      <td>1</td>\n",
       "      <td>0</td>\n",
       "    </tr>\n",
       "    <tr>\n",
       "      <th>210</th>\n",
       "      <td>12/13/2015</td>\n",
       "      <td>1.01</td>\n",
       "      <td>549945.76</td>\n",
       "      <td>4641.02</td>\n",
       "      <td>455362.38</td>\n",
       "      <td>219.40</td>\n",
       "      <td>89722.96</td>\n",
       "      <td>89523.38</td>\n",
       "      <td>199.58</td>\n",
       "      <td>0.0</td>\n",
       "      <td>conventional</td>\n",
       "      <td>2015</td>\n",
       "      <td>Boston</td>\n",
       "      <td>1</td>\n",
       "      <td>0</td>\n",
       "    </tr>\n",
       "    <tr>\n",
       "      <th>211</th>\n",
       "      <td>12/6/2015</td>\n",
       "      <td>1.02</td>\n",
       "      <td>488679.31</td>\n",
       "      <td>5126.32</td>\n",
       "      <td>407520.22</td>\n",
       "      <td>142.99</td>\n",
       "      <td>75889.78</td>\n",
       "      <td>75666.22</td>\n",
       "      <td>223.56</td>\n",
       "      <td>0.0</td>\n",
       "      <td>conventional</td>\n",
       "      <td>2015</td>\n",
       "      <td>Boston</td>\n",
       "      <td>1</td>\n",
       "      <td>0</td>\n",
       "    </tr>\n",
       "    <tr>\n",
       "      <th>212</th>\n",
       "      <td>11/29/2015</td>\n",
       "      <td>1.19</td>\n",
       "      <td>350559.81</td>\n",
       "      <td>3609.25</td>\n",
       "      <td>272719.08</td>\n",
       "      <td>105.86</td>\n",
       "      <td>74125.62</td>\n",
       "      <td>73864.52</td>\n",
       "      <td>261.10</td>\n",
       "      <td>0.0</td>\n",
       "      <td>conventional</td>\n",
       "      <td>2015</td>\n",
       "      <td>Boston</td>\n",
       "      <td>1</td>\n",
       "      <td>0</td>\n",
       "    </tr>\n",
       "  </tbody>\n",
       "</table>\n",
       "</div>"
      ],
      "text/plain": [
       "           Date  AveragePrice  Total Volume     4046       4225      4770  \\\n",
       "208  12/27/2015          1.13     450816.39  3886.27  346964.70  13952.56   \n",
       "209  12/20/2015          1.07     489802.88  4912.37  390100.99   5887.72   \n",
       "210  12/13/2015          1.01     549945.76  4641.02  455362.38    219.40   \n",
       "211   12/6/2015          1.02     488679.31  5126.32  407520.22    142.99   \n",
       "212  11/29/2015          1.19     350559.81  3609.25  272719.08    105.86   \n",
       "\n",
       "     Total Bags  Small Bags  Large Bags  XLarge Bags          type  year  \\\n",
       "208    86012.86    85913.60       99.26          0.0  conventional  2015   \n",
       "209    88901.80    88768.47      133.33          0.0  conventional  2015   \n",
       "210    89722.96    89523.38      199.58          0.0  conventional  2015   \n",
       "211    75889.78    75666.22      223.56          0.0  conventional  2015   \n",
       "212    74125.62    73864.52      261.10          0.0  conventional  2015   \n",
       "\n",
       "     region  regionR  typeR  \n",
       "208  Boston        1      0  \n",
       "209  Boston        1      0  \n",
       "210  Boston        1      0  \n",
       "211  Boston        1      0  \n",
       "212  Boston        1      0  "
      ]
     },
     "execution_count": 35,
     "metadata": {},
     "output_type": "execute_result"
    }
   ],
   "source": [
    "def recode(series):\n",
    "    if series == 'conventional':\n",
    "        return 0\n",
    "    if series == 'organic':\n",
    "        return 1\n",
    "    \n",
    "df1['typeR'] = df1['type'].apply(recode)\n",
    "df1.head()"
   ]
  },
  {
   "cell_type": "markdown",
   "id": "59aebe33",
   "metadata": {},
   "source": [
    "Now recoding the cities"
   ]
  },
  {
   "cell_type": "code",
   "execution_count": 36,
   "id": "996c3a06",
   "metadata": {},
   "outputs": [
    {
     "data": {
      "text/html": [
       "<div>\n",
       "<style scoped>\n",
       "    .dataframe tbody tr th:only-of-type {\n",
       "        vertical-align: middle;\n",
       "    }\n",
       "\n",
       "    .dataframe tbody tr th {\n",
       "        vertical-align: top;\n",
       "    }\n",
       "\n",
       "    .dataframe thead th {\n",
       "        text-align: right;\n",
       "    }\n",
       "</style>\n",
       "<table border=\"1\" class=\"dataframe\">\n",
       "  <thead>\n",
       "    <tr style=\"text-align: right;\">\n",
       "      <th></th>\n",
       "      <th>Date</th>\n",
       "      <th>AveragePrice</th>\n",
       "      <th>Total Volume</th>\n",
       "      <th>4046</th>\n",
       "      <th>4225</th>\n",
       "      <th>4770</th>\n",
       "      <th>Total Bags</th>\n",
       "      <th>Small Bags</th>\n",
       "      <th>Large Bags</th>\n",
       "      <th>XLarge Bags</th>\n",
       "      <th>type</th>\n",
       "      <th>year</th>\n",
       "      <th>region</th>\n",
       "      <th>regionR</th>\n",
       "      <th>typeR</th>\n",
       "    </tr>\n",
       "  </thead>\n",
       "  <tbody>\n",
       "    <tr>\n",
       "      <th>208</th>\n",
       "      <td>12/27/2015</td>\n",
       "      <td>1.13</td>\n",
       "      <td>450816.39</td>\n",
       "      <td>3886.27</td>\n",
       "      <td>346964.70</td>\n",
       "      <td>13952.56</td>\n",
       "      <td>86012.86</td>\n",
       "      <td>85913.60</td>\n",
       "      <td>99.26</td>\n",
       "      <td>0.0</td>\n",
       "      <td>conventional</td>\n",
       "      <td>2015</td>\n",
       "      <td>Boston</td>\n",
       "      <td>1</td>\n",
       "      <td>0</td>\n",
       "    </tr>\n",
       "    <tr>\n",
       "      <th>209</th>\n",
       "      <td>12/20/2015</td>\n",
       "      <td>1.07</td>\n",
       "      <td>489802.88</td>\n",
       "      <td>4912.37</td>\n",
       "      <td>390100.99</td>\n",
       "      <td>5887.72</td>\n",
       "      <td>88901.80</td>\n",
       "      <td>88768.47</td>\n",
       "      <td>133.33</td>\n",
       "      <td>0.0</td>\n",
       "      <td>conventional</td>\n",
       "      <td>2015</td>\n",
       "      <td>Boston</td>\n",
       "      <td>1</td>\n",
       "      <td>0</td>\n",
       "    </tr>\n",
       "    <tr>\n",
       "      <th>210</th>\n",
       "      <td>12/13/2015</td>\n",
       "      <td>1.01</td>\n",
       "      <td>549945.76</td>\n",
       "      <td>4641.02</td>\n",
       "      <td>455362.38</td>\n",
       "      <td>219.40</td>\n",
       "      <td>89722.96</td>\n",
       "      <td>89523.38</td>\n",
       "      <td>199.58</td>\n",
       "      <td>0.0</td>\n",
       "      <td>conventional</td>\n",
       "      <td>2015</td>\n",
       "      <td>Boston</td>\n",
       "      <td>1</td>\n",
       "      <td>0</td>\n",
       "    </tr>\n",
       "    <tr>\n",
       "      <th>211</th>\n",
       "      <td>12/6/2015</td>\n",
       "      <td>1.02</td>\n",
       "      <td>488679.31</td>\n",
       "      <td>5126.32</td>\n",
       "      <td>407520.22</td>\n",
       "      <td>142.99</td>\n",
       "      <td>75889.78</td>\n",
       "      <td>75666.22</td>\n",
       "      <td>223.56</td>\n",
       "      <td>0.0</td>\n",
       "      <td>conventional</td>\n",
       "      <td>2015</td>\n",
       "      <td>Boston</td>\n",
       "      <td>1</td>\n",
       "      <td>0</td>\n",
       "    </tr>\n",
       "    <tr>\n",
       "      <th>212</th>\n",
       "      <td>11/29/2015</td>\n",
       "      <td>1.19</td>\n",
       "      <td>350559.81</td>\n",
       "      <td>3609.25</td>\n",
       "      <td>272719.08</td>\n",
       "      <td>105.86</td>\n",
       "      <td>74125.62</td>\n",
       "      <td>73864.52</td>\n",
       "      <td>261.10</td>\n",
       "      <td>0.0</td>\n",
       "      <td>conventional</td>\n",
       "      <td>2015</td>\n",
       "      <td>Boston</td>\n",
       "      <td>1</td>\n",
       "      <td>0</td>\n",
       "    </tr>\n",
       "  </tbody>\n",
       "</table>\n",
       "</div>"
      ],
      "text/plain": [
       "           Date  AveragePrice  Total Volume     4046       4225      4770  \\\n",
       "208  12/27/2015          1.13     450816.39  3886.27  346964.70  13952.56   \n",
       "209  12/20/2015          1.07     489802.88  4912.37  390100.99   5887.72   \n",
       "210  12/13/2015          1.01     549945.76  4641.02  455362.38    219.40   \n",
       "211   12/6/2015          1.02     488679.31  5126.32  407520.22    142.99   \n",
       "212  11/29/2015          1.19     350559.81  3609.25  272719.08    105.86   \n",
       "\n",
       "     Total Bags  Small Bags  Large Bags  XLarge Bags          type  year  \\\n",
       "208    86012.86    85913.60       99.26          0.0  conventional  2015   \n",
       "209    88901.80    88768.47      133.33          0.0  conventional  2015   \n",
       "210    89722.96    89523.38      199.58          0.0  conventional  2015   \n",
       "211    75889.78    75666.22      223.56          0.0  conventional  2015   \n",
       "212    74125.62    73864.52      261.10          0.0  conventional  2015   \n",
       "\n",
       "     region  regionR  typeR  \n",
       "208  Boston        1      0  \n",
       "209  Boston        1      0  \n",
       "210  Boston        1      0  \n",
       "211  Boston        1      0  \n",
       "212  Boston        1      0  "
      ]
     },
     "execution_count": 36,
     "metadata": {},
     "output_type": "execute_result"
    }
   ],
   "source": [
    "def recode(series):\n",
    "    if series == 'SouthCarolina':\n",
    "        return 0\n",
    "    if series == 'Boston':\n",
    "        return 1\n",
    "    if series == 'Chicago':\n",
    "        return 2\n",
    "    \n",
    "df1['regionR'] = df1['region'].apply(recode)\n",
    "df1.head()"
   ]
  },
  {
   "cell_type": "markdown",
   "id": "d234e077",
   "metadata": {},
   "source": [
    "Checking the unique values."
   ]
  },
  {
   "cell_type": "code",
   "execution_count": 22,
   "id": "249c7132",
   "metadata": {},
   "outputs": [
    {
     "data": {
      "text/plain": [
       "array([0, 2, 1])"
      ]
     },
     "execution_count": 22,
     "metadata": {},
     "output_type": "execute_result"
    }
   ],
   "source": [
    "df1.regionR.unique()"
   ]
  },
  {
   "cell_type": "code",
   "execution_count": 21,
   "id": "d44cc8c9",
   "metadata": {},
   "outputs": [
    {
     "data": {
      "text/plain": [
       "array([0, 1])"
      ]
     },
     "execution_count": 21,
     "metadata": {},
     "output_type": "execute_result"
    }
   ],
   "source": [
    "df1.typeR.unique()"
   ]
  },
  {
   "cell_type": "markdown",
   "id": "b36923c0",
   "metadata": {},
   "source": [
    "## Testing for assumptions"
   ]
  },
  {
   "cell_type": "markdown",
   "id": "3aebf303",
   "metadata": {},
   "source": [
    "* Normality\n",
    "* Homogeneity of Variance\n",
    "* Sample size > 20\n",
    "* Independence\n",
    "* Sphercity"
   ]
  },
  {
   "cell_type": "markdown",
   "id": "e830cf74",
   "metadata": {},
   "source": [
    "We know sample size is greater than 20, Independence is there since the cities are not related. Sphercity is when comparing for a time series, so we don't have to worry about that."
   ]
  },
  {
   "cell_type": "code",
   "execution_count": 41,
   "id": "531aca06",
   "metadata": {},
   "outputs": [
    {
     "data": {
      "text/plain": [
       "<seaborn.axisgrid.FacetGrid at 0x7f97b756c160>"
      ]
     },
     "execution_count": 41,
     "metadata": {},
     "output_type": "execute_result"
    },
    {
     "data": {
      "image/png": "[encoded data removed]",
      "text/plain": [
       "<Figure size 500x500 with 1 Axes>"
      ]
     },
     "metadata": {},
     "output_type": "display_data"
    },
    {
     "data": {
      "image/png": "[encoded data removed]",
      "text/plain": [
       "<Figure size 500x500 with 1 Axes>"
      ]
     },
     "metadata": {},
     "output_type": "display_data"
    },
    {
     "data": {
      "image/png": "[encoded data removed]",
      "text/plain": [
       "<Figure size 500x500 with 1 Axes>"
      ]
     },
     "metadata": {},
     "output_type": "display_data"
    }
   ],
   "source": [
    "plt.style.use('fivethirtyeight')\n",
    "\n",
    "#Without Transformation\n",
    "sns.displot(df1['Total Volume'], kde = True).set(title='Without Transformation')\n",
    "\n",
    "#With Square Root Transformation\n",
    "sns.displot(np.sqrt(df1['Total Volume']), kde = True).set(title='With Square Root Transformation')\n",
    "\n",
    "#With Log Transformation\n",
    "sns.displot(np.log(df1['Total Volume']), kde = True).set(title='With Log Transformation')"
   ]
  },
  {
   "cell_type": "markdown",
   "id": "fc534d98",
   "metadata": {},
   "source": [
    "The log transformation looks more normal but it does violate the assumption since there is clearly 2 bell shaped curves. However, being aware of this violation, we will continue to move forward with the log function."
   ]
  },
  {
   "cell_type": "code",
   "execution_count": 43,
   "id": "dceb795c",
   "metadata": {},
   "outputs": [],
   "source": [
    "#perform log transformation\n",
    "df1['Total Volume_log'] = np.log(df1['Total Volume'])"
   ]
  },
  {
   "cell_type": "code",
   "execution_count": 44,
   "id": "bf4a9c57",
   "metadata": {},
   "outputs": [
    {
     "data": {
      "text/plain": [
       "BartlettResult(statistic=681.0293960138611, pvalue=3.990868355374021e-150)"
      ]
     },
     "execution_count": 44,
     "metadata": {},
     "output_type": "execute_result"
    }
   ],
   "source": [
    "bartlett(df1[\"Total Volume_log\"], df1[\"regionR\"])"
   ]
  },
  {
   "cell_type": "markdown",
   "id": "dc25ff9f",
   "metadata": {},
   "source": [
    "The p value is very small and violates this assumption. Will continue."
   ]
  },
  {
   "cell_type": "code",
   "execution_count": 45,
   "id": "d90c88dd",
   "metadata": {},
   "outputs": [
    {
     "data": {
      "text/plain": [
       "BartlettResult(statistic=24596.210152677148, pvalue=0.0)"
      ]
     },
     "execution_count": 45,
     "metadata": {},
     "output_type": "execute_result"
    }
   ],
   "source": [
    "#without the log information bartlett's test to compare.\n",
    "bartlett(df1[\"Total Volume\"], df1[\"regionR\"])"
   ]
  },
  {
   "cell_type": "markdown",
   "id": "c45ff348",
   "metadata": {},
   "source": [
    "The null hypothesis for both of these is that the data has equal variance, so you'd like to have a p value of > .05\n",
    "The p vaue associated with the test is < .05, which means that unfortunately, you have violated the assumption of homogeneity of variance, however we know that each city doesn't impact the other cities. So, we will move ahead."
   ]
  },
  {
   "cell_type": "code",
   "execution_count": 47,
   "id": "ccc7e94e",
   "metadata": {},
   "outputs": [
    {
     "data": {
      "text/plain": [
       "F_onewayResult(statistic=45.17027583096945, pvalue=1.6230242326268377e-19)"
      ]
     },
     "execution_count": 47,
     "metadata": {},
     "output_type": "execute_result"
    }
   ],
   "source": [
    "f_oneway(\n",
    "    df[\"Total Volume\"][df[\"region\"]=='Chicago'],\n",
    "    df[\"Total Volume\"][df[\"region\"]=='Boston'],\n",
    "    df[\"Total Volume\"][df[\"region\"]=='SouthCarolina']\n",
    ")"
   ]
  },
  {
   "cell_type": "markdown",
   "id": "e09ad346",
   "metadata": {},
   "source": [
    "Since the p value is less than .05, there is a significant difference in between these three categories."
   ]
  },
  {
   "cell_type": "markdown",
   "id": "40367b54",
   "metadata": {},
   "source": [
    "Now, we will do postHoc with and without the log transformation."
   ]
  },
  {
   "cell_type": "code",
   "execution_count": 48,
   "id": "fe1ae73c",
   "metadata": {},
   "outputs": [
    {
     "name": "stdout",
     "output_type": "stream",
     "text": [
      "    Multiple Comparison of Means - Tukey HSD, FWER=0.05     \n",
      "============================================================\n",
      " group1     group2    meandiff p-adj   lower   upper  reject\n",
      "------------------------------------------------------------\n",
      " Boston       Chicago    0.655    0.0  0.3126  0.9974   True\n",
      " Boston SouthCarolina  -0.3986 0.0176 -0.7409 -0.0562   True\n",
      "Chicago SouthCarolina  -1.0536    0.0 -1.3959 -0.7112   True\n",
      "------------------------------------------------------------\n"
     ]
    }
   ],
   "source": [
    "postHocResults = MultiComparison(df1[\"Total Volume_log\"], df1[\"region\"]).tukeyhsd()\n",
    "print(postHocResults)"
   ]
  },
  {
   "cell_type": "code",
   "execution_count": 49,
   "id": "53ba5b6f",
   "metadata": {},
   "outputs": [
    {
     "name": "stdout",
     "output_type": "stream",
     "text": [
      "           Multiple Comparison of Means - Tukey HSD, FWER=0.05           \n",
      "=========================================================================\n",
      " group1     group2      meandiff   p-adj    lower        upper     reject\n",
      "-------------------------------------------------------------------------\n",
      " Boston       Chicago  107776.1943   0.0   54479.2623  161073.1264   True\n",
      " Boston SouthCarolina -108047.9643   0.0 -161344.8964  -54751.0322   True\n",
      "Chicago SouthCarolina -215824.1586   0.0 -269121.0907 -162527.2265   True\n",
      "-------------------------------------------------------------------------\n"
     ]
    }
   ],
   "source": [
    "postHocResults = MultiComparison(df1[\"Total Volume\"], df1[\"region\"]).tukeyhsd()\n",
    "print(postHocResults)"
   ]
  },
  {
   "cell_type": "markdown",
   "id": "f022d742",
   "metadata": {},
   "source": [
    "The output provides the mean difference in the number of reviews per comparison, plus the confidence interval, and whether or not you can reject the null hypothesis. In this case we will reject the null hypothesis.\n",
    "\n",
    "There is a significant difference between th consumption of Avocados between all 3 of the Cities."
   ]
  },
  {
   "cell_type": "markdown",
   "id": "0944b426",
   "metadata": {},
   "source": [
    "## Determine Means and Draw Conclusions"
   ]
  },
  {
   "cell_type": "code",
   "execution_count": 50,
   "id": "f219804b",
   "metadata": {},
   "outputs": [
    {
     "data": {
      "text/html": [
       "<div>\n",
       "<style scoped>\n",
       "    .dataframe tbody tr th:only-of-type {\n",
       "        vertical-align: middle;\n",
       "    }\n",
       "\n",
       "    .dataframe tbody tr th {\n",
       "        vertical-align: top;\n",
       "    }\n",
       "\n",
       "    .dataframe thead th {\n",
       "        text-align: right;\n",
       "    }\n",
       "</style>\n",
       "<table border=\"1\" class=\"dataframe\">\n",
       "  <thead>\n",
       "    <tr style=\"text-align: right;\">\n",
       "      <th></th>\n",
       "      <th>Total Volume</th>\n",
       "    </tr>\n",
       "    <tr>\n",
       "      <th>region</th>\n",
       "      <th></th>\n",
       "    </tr>\n",
       "  </thead>\n",
       "  <tbody>\n",
       "    <tr>\n",
       "      <th>Boston</th>\n",
       "      <td>287792.854527</td>\n",
       "    </tr>\n",
       "    <tr>\n",
       "      <th>Chicago</th>\n",
       "      <td>395569.048846</td>\n",
       "    </tr>\n",
       "    <tr>\n",
       "      <th>SouthCarolina</th>\n",
       "      <td>179744.890237</td>\n",
       "    </tr>\n",
       "  </tbody>\n",
       "</table>\n",
       "</div>"
      ],
      "text/plain": [
       "                Total Volume\n",
       "region                      \n",
       "Boston         287792.854527\n",
       "Chicago        395569.048846\n",
       "SouthCarolina  179744.890237"
      ]
     },
     "execution_count": 50,
     "metadata": {},
     "output_type": "execute_result"
    }
   ],
   "source": [
    "df2 = df1[['region', 'Total Volume']]\n",
    "\n",
    "df2.groupby('region').mean()"
   ]
  },
  {
   "cell_type": "markdown",
   "id": "33b8a788",
   "metadata": {},
   "source": [
    "Chicago consumes the most avocados, more than twice what South Carolina consumes, and 1/4 more than what Boston consumes."
   ]
  },
  {
   "cell_type": "markdown",
   "id": "8e071f60",
   "metadata": {},
   "source": [
    "## Linear Regression"
   ]
  },
  {
   "cell_type": "markdown",
   "id": "93db4435-7dad-44e8-9454-e014eab5aad5",
   "metadata": {},
   "source": [
    "Turning the date into datetime"
   ]
  },
  {
   "cell_type": "code",
   "execution_count": 20,
   "id": "532a680f",
   "metadata": {},
   "outputs": [
    {
     "data": {
      "text/html": [
       "<div>\n",
       "<style scoped>\n",
       "    .dataframe tbody tr th:only-of-type {\n",
       "        vertical-align: middle;\n",
       "    }\n",
       "\n",
       "    .dataframe tbody tr th {\n",
       "        vertical-align: top;\n",
       "    }\n",
       "\n",
       "    .dataframe thead th {\n",
       "        text-align: right;\n",
       "    }\n",
       "</style>\n",
       "<table border=\"1\" class=\"dataframe\">\n",
       "  <thead>\n",
       "    <tr style=\"text-align: right;\">\n",
       "      <th></th>\n",
       "      <th>Date</th>\n",
       "      <th>AveragePrice</th>\n",
       "      <th>Total Volume</th>\n",
       "      <th>4046</th>\n",
       "      <th>4225</th>\n",
       "      <th>4770</th>\n",
       "      <th>Total Bags</th>\n",
       "      <th>Small Bags</th>\n",
       "      <th>Large Bags</th>\n",
       "      <th>XLarge Bags</th>\n",
       "      <th>type</th>\n",
       "      <th>year</th>\n",
       "      <th>region</th>\n",
       "    </tr>\n",
       "  </thead>\n",
       "  <tbody>\n",
       "    <tr>\n",
       "      <th>0</th>\n",
       "      <td>12/27/2015</td>\n",
       "      <td>1.33</td>\n",
       "      <td>64236.62</td>\n",
       "      <td>1036.74</td>\n",
       "      <td>54454.85</td>\n",
       "      <td>48.16</td>\n",
       "      <td>8696.87</td>\n",
       "      <td>8603.62</td>\n",
       "      <td>93.25</td>\n",
       "      <td>0.0</td>\n",
       "      <td>conventional</td>\n",
       "      <td>2015</td>\n",
       "      <td>Albany</td>\n",
       "    </tr>\n",
       "    <tr>\n",
       "      <th>1</th>\n",
       "      <td>12/20/2015</td>\n",
       "      <td>1.35</td>\n",
       "      <td>54876.98</td>\n",
       "      <td>674.28</td>\n",
       "      <td>44638.81</td>\n",
       "      <td>58.33</td>\n",
       "      <td>9505.56</td>\n",
       "      <td>9408.07</td>\n",
       "      <td>97.49</td>\n",
       "      <td>0.0</td>\n",
       "      <td>conventional</td>\n",
       "      <td>2015</td>\n",
       "      <td>Albany</td>\n",
       "    </tr>\n",
       "    <tr>\n",
       "      <th>2</th>\n",
       "      <td>12/13/2015</td>\n",
       "      <td>0.93</td>\n",
       "      <td>118220.22</td>\n",
       "      <td>794.70</td>\n",
       "      <td>109149.67</td>\n",
       "      <td>130.50</td>\n",
       "      <td>8145.35</td>\n",
       "      <td>8042.21</td>\n",
       "      <td>103.14</td>\n",
       "      <td>0.0</td>\n",
       "      <td>conventional</td>\n",
       "      <td>2015</td>\n",
       "      <td>Albany</td>\n",
       "    </tr>\n",
       "    <tr>\n",
       "      <th>3</th>\n",
       "      <td>12/6/2015</td>\n",
       "      <td>1.08</td>\n",
       "      <td>78992.15</td>\n",
       "      <td>1132.00</td>\n",
       "      <td>71976.41</td>\n",
       "      <td>72.58</td>\n",
       "      <td>5811.16</td>\n",
       "      <td>5677.40</td>\n",
       "      <td>133.76</td>\n",
       "      <td>0.0</td>\n",
       "      <td>conventional</td>\n",
       "      <td>2015</td>\n",
       "      <td>Albany</td>\n",
       "    </tr>\n",
       "    <tr>\n",
       "      <th>4</th>\n",
       "      <td>11/29/2015</td>\n",
       "      <td>1.28</td>\n",
       "      <td>51039.60</td>\n",
       "      <td>941.48</td>\n",
       "      <td>43838.39</td>\n",
       "      <td>75.78</td>\n",
       "      <td>6183.95</td>\n",
       "      <td>5986.26</td>\n",
       "      <td>197.69</td>\n",
       "      <td>0.0</td>\n",
       "      <td>conventional</td>\n",
       "      <td>2015</td>\n",
       "      <td>Albany</td>\n",
       "    </tr>\n",
       "  </tbody>\n",
       "</table>\n",
       "</div>"
      ],
      "text/plain": [
       "         Date  AveragePrice  Total Volume     4046       4225    4770  \\\n",
       "0  12/27/2015          1.33      64236.62  1036.74   54454.85   48.16   \n",
       "1  12/20/2015          1.35      54876.98   674.28   44638.81   58.33   \n",
       "2  12/13/2015          0.93     118220.22   794.70  109149.67  130.50   \n",
       "3   12/6/2015          1.08      78992.15  1132.00   71976.41   72.58   \n",
       "4  11/29/2015          1.28      51039.60   941.48   43838.39   75.78   \n",
       "\n",
       "   Total Bags  Small Bags  Large Bags  XLarge Bags          type  year  region  \n",
       "0     8696.87     8603.62       93.25          0.0  conventional  2015  Albany  \n",
       "1     9505.56     9408.07       97.49          0.0  conventional  2015  Albany  \n",
       "2     8145.35     8042.21      103.14          0.0  conventional  2015  Albany  \n",
       "3     5811.16     5677.40      133.76          0.0  conventional  2015  Albany  \n",
       "4     6183.95     5986.26      197.69          0.0  conventional  2015  Albany  "
      ]
     },
     "execution_count": 20,
     "metadata": {},
     "output_type": "execute_result"
    }
   ],
   "source": [
    "df.head()"
   ]
  },
  {
   "cell_type": "code",
   "execution_count": 21,
   "id": "1c405689",
   "metadata": {},
   "outputs": [
    {
     "data": {
      "text/html": [
       "<div>\n",
       "<style scoped>\n",
       "    .dataframe tbody tr th:only-of-type {\n",
       "        vertical-align: middle;\n",
       "    }\n",
       "\n",
       "    .dataframe tbody tr th {\n",
       "        vertical-align: top;\n",
       "    }\n",
       "\n",
       "    .dataframe thead th {\n",
       "        text-align: right;\n",
       "    }\n",
       "</style>\n",
       "<table border=\"1\" class=\"dataframe\">\n",
       "  <thead>\n",
       "    <tr style=\"text-align: right;\">\n",
       "      <th></th>\n",
       "      <th>Date</th>\n",
       "      <th>region</th>\n",
       "      <th>AveragePrice</th>\n",
       "    </tr>\n",
       "  </thead>\n",
       "  <tbody>\n",
       "    <tr>\n",
       "      <th>0</th>\n",
       "      <td>12/27/2015</td>\n",
       "      <td>Albany</td>\n",
       "      <td>1.33</td>\n",
       "    </tr>\n",
       "    <tr>\n",
       "      <th>1</th>\n",
       "      <td>12/20/2015</td>\n",
       "      <td>Albany</td>\n",
       "      <td>1.35</td>\n",
       "    </tr>\n",
       "    <tr>\n",
       "      <th>2</th>\n",
       "      <td>12/13/2015</td>\n",
       "      <td>Albany</td>\n",
       "      <td>0.93</td>\n",
       "    </tr>\n",
       "    <tr>\n",
       "      <th>3</th>\n",
       "      <td>12/6/2015</td>\n",
       "      <td>Albany</td>\n",
       "      <td>1.08</td>\n",
       "    </tr>\n",
       "    <tr>\n",
       "      <th>4</th>\n",
       "      <td>11/29/2015</td>\n",
       "      <td>Albany</td>\n",
       "      <td>1.28</td>\n",
       "    </tr>\n",
       "  </tbody>\n",
       "</table>\n",
       "</div>"
      ],
      "text/plain": [
       "         Date  region  AveragePrice\n",
       "0  12/27/2015  Albany          1.33\n",
       "1  12/20/2015  Albany          1.35\n",
       "2  12/13/2015  Albany          0.93\n",
       "3   12/6/2015  Albany          1.08\n",
       "4  11/29/2015  Albany          1.28"
      ]
     },
     "execution_count": 21,
     "metadata": {},
     "output_type": "execute_result"
    }
   ],
   "source": [
    "df_date = df[['Date','region', 'AveragePrice']]\n",
    "df_date.head()"
   ]
  },
  {
   "cell_type": "code",
   "execution_count": 22,
   "id": "f3c0e485",
   "metadata": {},
   "outputs": [
    {
     "data": {
      "text/plain": [
       "Date             object\n",
       "region           object\n",
       "AveragePrice    float64\n",
       "dtype: object"
      ]
     },
     "execution_count": 22,
     "metadata": {},
     "output_type": "execute_result"
    }
   ],
   "source": [
    "df_date.dtypes"
   ]
  },
  {
   "cell_type": "code",
   "execution_count": 23,
   "id": "acc006f8",
   "metadata": {},
   "outputs": [],
   "source": [
    "df_date['Date'] = pd.to_datetime(df_date['Date'], format='%m/%d/%Y')"
   ]
  },
  {
   "cell_type": "code",
   "execution_count": 24,
   "id": "0d941e21",
   "metadata": {},
   "outputs": [
    {
     "data": {
      "text/html": [
       "<div>\n",
       "<style scoped>\n",
       "    .dataframe tbody tr th:only-of-type {\n",
       "        vertical-align: middle;\n",
       "    }\n",
       "\n",
       "    .dataframe tbody tr th {\n",
       "        vertical-align: top;\n",
       "    }\n",
       "\n",
       "    .dataframe thead th {\n",
       "        text-align: right;\n",
       "    }\n",
       "</style>\n",
       "<table border=\"1\" class=\"dataframe\">\n",
       "  <thead>\n",
       "    <tr style=\"text-align: right;\">\n",
       "      <th></th>\n",
       "      <th>Date</th>\n",
       "      <th>region</th>\n",
       "      <th>AveragePrice</th>\n",
       "    </tr>\n",
       "  </thead>\n",
       "  <tbody>\n",
       "    <tr>\n",
       "      <th>0</th>\n",
       "      <td>2015-12-27</td>\n",
       "      <td>Albany</td>\n",
       "      <td>1.33</td>\n",
       "    </tr>\n",
       "    <tr>\n",
       "      <th>1</th>\n",
       "      <td>2015-12-20</td>\n",
       "      <td>Albany</td>\n",
       "      <td>1.35</td>\n",
       "    </tr>\n",
       "    <tr>\n",
       "      <th>2</th>\n",
       "      <td>2015-12-13</td>\n",
       "      <td>Albany</td>\n",
       "      <td>0.93</td>\n",
       "    </tr>\n",
       "    <tr>\n",
       "      <th>3</th>\n",
       "      <td>2015-12-06</td>\n",
       "      <td>Albany</td>\n",
       "      <td>1.08</td>\n",
       "    </tr>\n",
       "    <tr>\n",
       "      <th>4</th>\n",
       "      <td>2015-11-29</td>\n",
       "      <td>Albany</td>\n",
       "      <td>1.28</td>\n",
       "    </tr>\n",
       "    <tr>\n",
       "      <th>...</th>\n",
       "      <td>...</td>\n",
       "      <td>...</td>\n",
       "      <td>...</td>\n",
       "    </tr>\n",
       "    <tr>\n",
       "      <th>18244</th>\n",
       "      <td>2018-02-04</td>\n",
       "      <td>WestTexNewMexico</td>\n",
       "      <td>1.63</td>\n",
       "    </tr>\n",
       "    <tr>\n",
       "      <th>18245</th>\n",
       "      <td>2018-01-28</td>\n",
       "      <td>WestTexNewMexico</td>\n",
       "      <td>1.71</td>\n",
       "    </tr>\n",
       "    <tr>\n",
       "      <th>18246</th>\n",
       "      <td>2018-01-21</td>\n",
       "      <td>WestTexNewMexico</td>\n",
       "      <td>1.87</td>\n",
       "    </tr>\n",
       "    <tr>\n",
       "      <th>18247</th>\n",
       "      <td>2018-01-14</td>\n",
       "      <td>WestTexNewMexico</td>\n",
       "      <td>1.93</td>\n",
       "    </tr>\n",
       "    <tr>\n",
       "      <th>18248</th>\n",
       "      <td>2018-01-07</td>\n",
       "      <td>WestTexNewMexico</td>\n",
       "      <td>1.62</td>\n",
       "    </tr>\n",
       "  </tbody>\n",
       "</table>\n",
       "<p>18249 rows × 3 columns</p>\n",
       "</div>"
      ],
      "text/plain": [
       "            Date            region  AveragePrice\n",
       "0     2015-12-27            Albany          1.33\n",
       "1     2015-12-20            Albany          1.35\n",
       "2     2015-12-13            Albany          0.93\n",
       "3     2015-12-06            Albany          1.08\n",
       "4     2015-11-29            Albany          1.28\n",
       "...          ...               ...           ...\n",
       "18244 2018-02-04  WestTexNewMexico          1.63\n",
       "18245 2018-01-28  WestTexNewMexico          1.71\n",
       "18246 2018-01-21  WestTexNewMexico          1.87\n",
       "18247 2018-01-14  WestTexNewMexico          1.93\n",
       "18248 2018-01-07  WestTexNewMexico          1.62\n",
       "\n",
       "[18249 rows x 3 columns]"
      ]
     },
     "execution_count": 24,
     "metadata": {},
     "output_type": "execute_result"
    }
   ],
   "source": [
    "df_date"
   ]
  },
  {
   "cell_type": "code",
   "execution_count": 25,
   "id": "e1b7bc27",
   "metadata": {},
   "outputs": [
    {
     "data": {
      "text/plain": [
       "Date            datetime64[ns]\n",
       "region                  object\n",
       "AveragePrice           float64\n",
       "dtype: object"
      ]
     },
     "execution_count": 25,
     "metadata": {},
     "output_type": "execute_result"
    }
   ],
   "source": [
    "df_date.dtypes"
   ]
  },
  {
   "cell_type": "code",
   "execution_count": 26,
   "id": "f0bdaa52",
   "metadata": {},
   "outputs": [
    {
     "data": {
      "text/html": [
       "<div>\n",
       "<style scoped>\n",
       "    .dataframe tbody tr th:only-of-type {\n",
       "        vertical-align: middle;\n",
       "    }\n",
       "\n",
       "    .dataframe tbody tr th {\n",
       "        vertical-align: top;\n",
       "    }\n",
       "\n",
       "    .dataframe thead th {\n",
       "        text-align: right;\n",
       "    }\n",
       "</style>\n",
       "<table border=\"1\" class=\"dataframe\">\n",
       "  <thead>\n",
       "    <tr style=\"text-align: right;\">\n",
       "      <th></th>\n",
       "      <th>Date</th>\n",
       "      <th>region</th>\n",
       "      <th>AveragePrice</th>\n",
       "    </tr>\n",
       "  </thead>\n",
       "  <tbody>\n",
       "    <tr>\n",
       "      <th>0</th>\n",
       "      <td>2015-12-27</td>\n",
       "      <td>Albany</td>\n",
       "      <td>1.33</td>\n",
       "    </tr>\n",
       "    <tr>\n",
       "      <th>1</th>\n",
       "      <td>2015-12-20</td>\n",
       "      <td>Albany</td>\n",
       "      <td>1.35</td>\n",
       "    </tr>\n",
       "    <tr>\n",
       "      <th>2</th>\n",
       "      <td>2015-12-13</td>\n",
       "      <td>Albany</td>\n",
       "      <td>0.93</td>\n",
       "    </tr>\n",
       "    <tr>\n",
       "      <th>3</th>\n",
       "      <td>2015-12-06</td>\n",
       "      <td>Albany</td>\n",
       "      <td>1.08</td>\n",
       "    </tr>\n",
       "    <tr>\n",
       "      <th>4</th>\n",
       "      <td>2015-11-29</td>\n",
       "      <td>Albany</td>\n",
       "      <td>1.28</td>\n",
       "    </tr>\n",
       "  </tbody>\n",
       "</table>\n",
       "</div>"
      ],
      "text/plain": [
       "        Date  region  AveragePrice\n",
       "0 2015-12-27  Albany          1.33\n",
       "1 2015-12-20  Albany          1.35\n",
       "2 2015-12-13  Albany          0.93\n",
       "3 2015-12-06  Albany          1.08\n",
       "4 2015-11-29  Albany          1.28"
      ]
     },
     "execution_count": 26,
     "metadata": {},
     "output_type": "execute_result"
    }
   ],
   "source": [
    "df_date.head()"
   ]
  },
  {
   "cell_type": "markdown",
   "id": "ae836f31-b3fe-47ac-9ba9-9a7e51f540f7",
   "metadata": {},
   "source": [
    "Saving the data"
   ]
  },
  {
   "cell_type": "code",
   "execution_count": 33,
   "id": "a343f722",
   "metadata": {},
   "outputs": [],
   "source": [
    "df_date.to_csv('../Data/avocados1.csv', index=False)"
   ]
  },
  {
   "cell_type": "code",
   "execution_count": 34,
   "id": "e9beb64f",
   "metadata": {},
   "outputs": [
    {
     "name": "stdout",
     "output_type": "stream",
     "text": [
      "ava.csv        avocados1.csv\n"
     ]
    }
   ],
   "source": [
    "ls ../Data"
   ]
  },
  {
   "cell_type": "markdown",
   "id": "31ed9fcc-d9ff-4a4a-8ad8-17eafb8fdf21",
   "metadata": {},
   "source": [
    "selecting only the 3 cities"
   ]
  },
  {
   "cell_type": "code",
   "execution_count": 35,
   "id": "bdcc1cb1-e106-47a3-bd97-50ea614fb230",
   "metadata": {},
   "outputs": [],
   "source": [
    "df_date1 = df_date[df_date.region.isin(['SouthCarolina', 'Boston', 'Chicago'])]"
   ]
  },
  {
   "cell_type": "code",
   "execution_count": 36,
   "id": "d5906b08",
   "metadata": {},
   "outputs": [
    {
     "data": {
      "text/html": [
       "<div>\n",
       "<style scoped>\n",
       "    .dataframe tbody tr th:only-of-type {\n",
       "        vertical-align: middle;\n",
       "    }\n",
       "\n",
       "    .dataframe tbody tr th {\n",
       "        vertical-align: top;\n",
       "    }\n",
       "\n",
       "    .dataframe thead th {\n",
       "        text-align: right;\n",
       "    }\n",
       "</style>\n",
       "<table border=\"1\" class=\"dataframe\">\n",
       "  <thead>\n",
       "    <tr style=\"text-align: right;\">\n",
       "      <th></th>\n",
       "      <th>Date</th>\n",
       "      <th>region</th>\n",
       "      <th>AveragePrice</th>\n",
       "    </tr>\n",
       "  </thead>\n",
       "  <tbody>\n",
       "    <tr>\n",
       "      <th>208</th>\n",
       "      <td>2015-12-27</td>\n",
       "      <td>Boston</td>\n",
       "      <td>1.13</td>\n",
       "    </tr>\n",
       "    <tr>\n",
       "      <th>209</th>\n",
       "      <td>2015-12-20</td>\n",
       "      <td>Boston</td>\n",
       "      <td>1.07</td>\n",
       "    </tr>\n",
       "    <tr>\n",
       "      <th>210</th>\n",
       "      <td>2015-12-13</td>\n",
       "      <td>Boston</td>\n",
       "      <td>1.01</td>\n",
       "    </tr>\n",
       "    <tr>\n",
       "      <th>211</th>\n",
       "      <td>2015-12-06</td>\n",
       "      <td>Boston</td>\n",
       "      <td>1.02</td>\n",
       "    </tr>\n",
       "    <tr>\n",
       "      <th>212</th>\n",
       "      <td>2015-11-29</td>\n",
       "      <td>Boston</td>\n",
       "      <td>1.19</td>\n",
       "    </tr>\n",
       "  </tbody>\n",
       "</table>\n",
       "</div>"
      ],
      "text/plain": [
       "          Date  region  AveragePrice\n",
       "208 2015-12-27  Boston          1.13\n",
       "209 2015-12-20  Boston          1.07\n",
       "210 2015-12-13  Boston          1.01\n",
       "211 2015-12-06  Boston          1.02\n",
       "212 2015-11-29  Boston          1.19"
      ]
     },
     "execution_count": 36,
     "metadata": {},
     "output_type": "execute_result"
    }
   ],
   "source": [
    "df_date1.head()"
   ]
  },
  {
   "cell_type": "markdown",
   "id": "43b8efb8-1bed-4afa-9b1a-e400328718ec",
   "metadata": {},
   "source": [
    "Reading the previous data I was working on"
   ]
  },
  {
   "cell_type": "code",
   "execution_count": 50,
   "id": "87866db7",
   "metadata": {},
   "outputs": [],
   "source": [
    "data = pd.read_csv('../Data/ava.csv')"
   ]
  },
  {
   "cell_type": "code",
   "execution_count": 51,
   "id": "cd632cb5-a709-4696-a126-5dc10a08ce0b",
   "metadata": {},
   "outputs": [],
   "source": [
    "data['Date_object'] = pd.to_datetime(data['Date_object'])"
   ]
  },
  {
   "cell_type": "code",
   "execution_count": 52,
   "id": "2675d9bc-cd90-4ea8-8c2b-5aa14c9f25f2",
   "metadata": {},
   "outputs": [],
   "source": [
    "data['Year'] = data['Date_object'].dt.year"
   ]
  },
  {
   "cell_type": "code",
   "execution_count": 53,
   "id": "db0ef4a6-89d2-422c-bdee-21c7d0df2cba",
   "metadata": {},
   "outputs": [],
   "source": [
    "result = data.groupby(['region', 'Year'])['AveragePrice'].mean()"
   ]
  },
  {
   "cell_type": "markdown",
   "id": "50c5956e-0f24-4e6a-985c-4bb8411e6789",
   "metadata": {},
   "source": [
    "Turning back into dataframe"
   ]
  },
  {
   "cell_type": "code",
   "execution_count": 54,
   "id": "fabd40ff-28e3-4e3a-845b-17f57cc67b9b",
   "metadata": {},
   "outputs": [],
   "source": [
    "result_df = result.reset_index()"
   ]
  },
  {
   "cell_type": "code",
   "execution_count": 55,
   "id": "2bfb41f1-3ef2-43e3-a065-2402e0133e20",
   "metadata": {},
   "outputs": [],
   "source": [
    "result_df.to_csv('../Data/result.csv', index=False)"
   ]
  },
  {
   "cell_type": "code",
   "execution_count": 77,
   "id": "2b31f5bc-8d04-4311-8092-e5ddcc8a81ee",
   "metadata": {},
   "outputs": [],
   "source": [
    "result_df1 = result_df[result_df.region.isin(['SouthCarolina', 'Boston', 'Chicago'])]"
   ]
  },
  {
   "cell_type": "code",
   "execution_count": 78,
   "id": "a1d0423b-ac32-4244-9344-8ad24a275c22",
   "metadata": {},
   "outputs": [
    {
     "data": {
      "text/html": [
       "<div>\n",
       "<style scoped>\n",
       "    .dataframe tbody tr th:only-of-type {\n",
       "        vertical-align: middle;\n",
       "    }\n",
       "\n",
       "    .dataframe tbody tr th {\n",
       "        vertical-align: top;\n",
       "    }\n",
       "\n",
       "    .dataframe thead th {\n",
       "        text-align: right;\n",
       "    }\n",
       "</style>\n",
       "<table border=\"1\" class=\"dataframe\">\n",
       "  <thead>\n",
       "    <tr style=\"text-align: right;\">\n",
       "      <th></th>\n",
       "      <th>region</th>\n",
       "      <th>Year</th>\n",
       "      <th>AveragePrice</th>\n",
       "    </tr>\n",
       "  </thead>\n",
       "  <tbody>\n",
       "    <tr>\n",
       "      <th>16</th>\n",
       "      <td>Boston</td>\n",
       "      <td>2015</td>\n",
       "      <td>1.473558</td>\n",
       "    </tr>\n",
       "    <tr>\n",
       "      <th>17</th>\n",
       "      <td>Boston</td>\n",
       "      <td>2016</td>\n",
       "      <td>1.426154</td>\n",
       "    </tr>\n",
       "    <tr>\n",
       "      <th>18</th>\n",
       "      <td>Boston</td>\n",
       "      <td>2017</td>\n",
       "      <td>1.679528</td>\n",
       "    </tr>\n",
       "    <tr>\n",
       "      <th>19</th>\n",
       "      <td>Boston</td>\n",
       "      <td>2018</td>\n",
       "      <td>1.576667</td>\n",
       "    </tr>\n",
       "    <tr>\n",
       "      <th>32</th>\n",
       "      <td>Chicago</td>\n",
       "      <td>2015</td>\n",
       "      <td>1.404038</td>\n",
       "    </tr>\n",
       "    <tr>\n",
       "      <th>33</th>\n",
       "      <td>Chicago</td>\n",
       "      <td>2016</td>\n",
       "      <td>1.547308</td>\n",
       "    </tr>\n",
       "    <tr>\n",
       "      <th>34</th>\n",
       "      <td>Chicago</td>\n",
       "      <td>2017</td>\n",
       "      <td>1.714811</td>\n",
       "    </tr>\n",
       "    <tr>\n",
       "      <th>35</th>\n",
       "      <td>Chicago</td>\n",
       "      <td>2018</td>\n",
       "      <td>1.561667</td>\n",
       "    </tr>\n",
       "    <tr>\n",
       "      <th>176</th>\n",
       "      <td>SouthCarolina</td>\n",
       "      <td>2015</td>\n",
       "      <td>1.454712</td>\n",
       "    </tr>\n",
       "    <tr>\n",
       "      <th>177</th>\n",
       "      <td>SouthCarolina</td>\n",
       "      <td>2016</td>\n",
       "      <td>1.305000</td>\n",
       "    </tr>\n",
       "    <tr>\n",
       "      <th>178</th>\n",
       "      <td>SouthCarolina</td>\n",
       "      <td>2017</td>\n",
       "      <td>1.479811</td>\n",
       "    </tr>\n",
       "    <tr>\n",
       "      <th>179</th>\n",
       "      <td>SouthCarolina</td>\n",
       "      <td>2018</td>\n",
       "      <td>1.268333</td>\n",
       "    </tr>\n",
       "  </tbody>\n",
       "</table>\n",
       "</div>"
      ],
      "text/plain": [
       "            region  Year  AveragePrice\n",
       "16          Boston  2015      1.473558\n",
       "17          Boston  2016      1.426154\n",
       "18          Boston  2017      1.679528\n",
       "19          Boston  2018      1.576667\n",
       "32         Chicago  2015      1.404038\n",
       "33         Chicago  2016      1.547308\n",
       "34         Chicago  2017      1.714811\n",
       "35         Chicago  2018      1.561667\n",
       "176  SouthCarolina  2015      1.454712\n",
       "177  SouthCarolina  2016      1.305000\n",
       "178  SouthCarolina  2017      1.479811\n",
       "179  SouthCarolina  2018      1.268333"
      ]
     },
     "execution_count": 78,
     "metadata": {},
     "output_type": "execute_result"
    }
   ],
   "source": [
    "result_df1"
   ]
  },
  {
   "cell_type": "code",
   "execution_count": 79,
   "id": "c91a277c-3737-449d-a5b1-ce78b788feff",
   "metadata": {},
   "outputs": [],
   "source": [
    "# Get unique regions\n",
    "regions = result_df1['region'].unique()"
   ]
  },
  {
   "cell_type": "code",
   "execution_count": 71,
   "id": "20f3cad4-63c8-4891-8837-c3289ac34015",
   "metadata": {},
   "outputs": [],
   "source": [
    "# Initialize an empty DataFrame to store predictions\n",
    "predictions = pd.DataFrame(columns=['Region', 'Year', 'Predicted_Price'])"
   ]
  },
  {
   "cell_type": "code",
   "execution_count": 81,
   "id": "2ae4ebff-7404-4160-a141-814ca3962dbc",
   "metadata": {},
   "outputs": [
    {
     "name": "stdout",
     "output_type": "stream",
     "text": [
      "Boston - Mean squared error: 0.03, R-squared: -4.74\n",
      "Chicago - Mean squared error: 0.05, R-squared: -923.81\n",
      "SouthCarolina - Mean squared error: 0.04, R-squared: -112.83\n",
      "          Region  Year  Predicted_Price\n",
      "0         Boston  2019         1.885499\n",
      "1        Chicago  2019         2.025584\n",
      "2  SouthCarolina  2019         1.504911\n"
     ]
    }
   ],
   "source": [
    "# Iterate through each region\n",
    "for region in regions:\n",
    "    # Filter data for the current region\n",
    "    region_data = result_df1[result_df1['region'] == region]\n",
    "\n",
    "    # Prepare the feature matrix (X) and target vector (y)\n",
    "    X = region_data[['Year']]\n",
    "    y = region_data['AveragePrice']\n",
    "\n",
    "    # Split the data into training and testing sets (70% training, 30% testing)\n",
    "    X_train, X_test, y_train, y_test = train_test_split(X, y, test_size=0.3, random_state=42)\n",
    "\n",
    "    # Create a linear regression model\n",
    "    model = LinearRegression()\n",
    "\n",
    "    # Fit the model to the training data\n",
    "    model.fit(X_train, y_train)\n",
    "\n",
    "    # Predict the prices for the testing set\n",
    "    y_pred = model.predict(X_test)\n",
    "\n",
    "    # Calculate the mean squared error and R-squared score\n",
    "    mse = mean_squared_error(y_test, y_pred)\n",
    "    r2 = r2_score(y_test, y_pred)\n",
    "    print(f\"{region} - Mean squared error: {mse:.2f}, R-squared: {r2:.2f}\")\n",
    "\n",
    "    # Predict the price for the following year\n",
    "    next_year = np.array([X['Year'].max() + 1]).reshape(-1, 1)\n",
    "    next_year_price = model.predict(next_year)\n",
    "\n",
    "    # Add the prediction to the predictions DataFrame\n",
    "    predictions = predictions.append({\n",
    "        'Region': region,\n",
    "        'Year': next_year[0][0],\n",
    "        'Predicted_Price': next_year_price[0]\n",
    "    }, ignore_index=True)\n",
    "\n",
    "# Save the predictions to a new CSV file\n",
    "\n",
    "print(predictions)"
   ]
  },
  {
   "cell_type": "code",
   "execution_count": 83,
   "id": "08081ca3-9656-432e-8fbc-6550a729998a",
   "metadata": {},
   "outputs": [],
   "source": [
    "predictions.to_csv('../Data/predictions.csv', index=False)"
   ]
  },
  {
   "cell_type": "code",
   "execution_count": null,
   "id": "4f3df316-edb2-4505-97f6-3b2ae510a2eb",
   "metadata": {},
   "outputs": [],
   "source": []
  }
 ],
 "metadata": {
  "kernelspec": {
   "display_name": "Python 3 (ipykernel)",
   "language": "python",
   "name": "python3"
  },
  "language_info": {
   "codemirror_mode": {
    "name": "ipython",
    "version": 3
   },
   "file_extension": ".py",
   "mimetype": "text/x-python",
   "name": "python",
   "nbconvert_exporter": "python",
   "pygments_lexer": "ipython3",
   "version": "3.9.13"
  }
 },
 "nbformat": 4,
 "nbformat_minor": 5
}
